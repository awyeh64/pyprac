{
 "cells": [
  {
   "cell_type": "code",
   "execution_count": 1,
   "metadata": {},
   "outputs": [],
   "source": [
    "def QuickSort(arr):\n",
    "    length = len(arr)\n",
    "    if length <= 1:\n",
    "        return arr\n",
    "    pivot = arr[length // 2]\n",
    "    left = [x for x in arr if x < pivot]\n",
    "    middle = [x for x in arr if x == pivot]\n",
    "    right = [x for x in arr if x > pivot]\n",
    "    return QuickSort(left) + middle + QuickSort(right)"
   ]
  },
  {
   "cell_type": "code",
   "execution_count": 2,
   "metadata": {},
   "outputs": [
    {
     "data": {
      "text/plain": [
       "[1, 1, 2, 3, 6, 8, 10]"
      ]
     },
     "execution_count": 2,
     "metadata": {},
     "output_type": "execute_result"
    }
   ],
   "source": [
    "QuickSort([3,6,8,10,1,2,1])"
   ]
  },
  {
   "cell_type": "code",
   "execution_count": 8,
   "metadata": {},
   "outputs": [
    {
     "data": {
      "text/plain": [
       "'10 + 3'"
      ]
     },
     "execution_count": 8,
     "metadata": {},
     "output_type": "execute_result"
    }
   ],
   "source": [
    "# operations\n",
    " \n",
    "x = 10\n",
    "y = 3\n",
    "\n",
    "x + y\n",
    "x - y\n",
    "x ** y\n",
    "x / y\n",
    "# same as the above but rounds it down to the nearest integer\n",
    "x // y\n",
    "\n",
    "str(x) + \" and \" + str(y)"
   ]
  },
  {
   "cell_type": "code",
   "execution_count": 9,
   "metadata": {},
   "outputs": [],
   "source": [
    "x = None"
   ]
  },
  {
   "cell_type": "code",
   "execution_count": 18,
   "metadata": {},
   "outputs": [],
   "source": [
    "# lists\n",
    "# mutable arrays\n",
    "\n",
    "names = ['Zach', 'Jay']\n",
    "names[0] == 'Zach'\n",
    "names.append('Richard')\n",
    "len(names) == 3\n",
    "names.extend(['Abi', 'Kevin'])"
   ]
  },
  {
   "cell_type": "code",
   "execution_count": 19,
   "metadata": {},
   "outputs": [],
   "source": [
    "names = []\n",
    "names = list()\n",
    "names = [1, ['hi', 'bye'], -0.12, 'test', True, None]"
   ]
  },
  {
   "cell_type": "code",
   "execution_count": 20,
   "metadata": {},
   "outputs": [],
   "source": [
    "# tuples\n",
    "names = ('Zach', 'Jay')\n",
    "names[0] == 'Zach'\n",
    "\n",
    "# names[0] = 'Richard' will create an error since tuples can't be changed\n",
    "\n",
    "empty = tuple()\n",
    "single = (10,)"
   ]
  },
  {
   "cell_type": "code",
   "execution_count": 36,
   "metadata": {},
   "outputs": [
    {
     "name": "stdout",
     "output_type": "stream",
     "text": [
      "34-23\n",
      "dict_keys(['Zach', 'Jordan'])\n",
      "dict_values(['12-37', '41-31'])\n"
     ]
    }
   ],
   "source": [
    "# dictionaries\n",
    "phonebook = dict()\n",
    "phonebook = {'Zach' : '12-37', 'Jordan' : '41-31'}\n",
    "phonebook['Jay'] = '34-23'\n",
    "print(phonebook['Jay'])\n",
    "del phonebook['Jay']\n",
    "print(phonebook.keys())\n",
    "print(phonebook.values())"
   ]
  },
  {
   "cell_type": "code",
   "execution_count": 64,
   "metadata": {},
   "outputs": [
    {
     "name": "stdout",
     "output_type": "stream",
     "text": [
      "{'banana', 'apple', 'cherry'}\n"
     ]
    }
   ],
   "source": [
    "# sets\n",
    "sets = set()\n",
    "sets = {'apple', 'banana', 'cherry'}\n",
    "print(sets)"
   ]
  },
  {
   "cell_type": "code",
   "execution_count": 42,
   "metadata": {},
   "outputs": [
    {
     "name": "stdout",
     "output_type": "stream",
     "text": [
      "hi\n",
      "hi\n",
      "hi\n",
      "hi\n",
      "hi\n",
      "Zach 12-37\n",
      "Jordan 41-31\n",
      "#0\n",
      "#1\n",
      "#2\n",
      "#3\n",
      "#4\n",
      "#5\n",
      "#6\n",
      "#7\n",
      "#8\n",
      "#9\n"
     ]
    }
   ],
   "source": [
    "# loops\n",
    "x = 0\n",
    "while(x < 5):\n",
    "    print('hi')\n",
    "    x += 1\n",
    "    \n",
    "for name in phonebook.keys():\n",
    "    print (name + \" \" + phonebook[name])\n",
    "    \n",
    "for n in range(10):\n",
    "    print('#' + str(n))"
   ]
  },
  {
   "cell_type": "code",
   "execution_count": 45,
   "metadata": {},
   "outputs": [],
   "source": [
    "#  list comprehension\n",
    "arr = [ i ** 2 for i in range(10) if i % 2 == 1]"
   ]
  },
  {
   "cell_type": "code",
   "execution_count": 5,
   "metadata": {},
   "outputs": [
    {
     "name": "stdout",
     "output_type": "stream",
     "text": [
      "[[1, 4], [1, 5], [1, 6], [2, 4], [2, 5], [2, 6], [3, 4], [3, 5], [3, 6]]\n",
      "[[1, 4], [1, 5], [1, 6], [2, 4], [2, 5], [2, 6], [3, 4], [3, 5], [3, 6]]\n"
     ]
    }
   ],
   "source": [
    "# Let's learn about list comprehensions! \n",
    "# You are given three integers and representing the dimensions of a cuboid along with an integer .\n",
    "# Print a list of all possible coordinates given by on a 3D grid where the sum of is not equal to .\n",
    "# Here, . Please use list comprehensions rather than multiple loops, as a learning exercise.\n",
    "results = []\n",
    "for x in [1, 2, 3]:\n",
    "    for y in [4, 5, 6]:\n",
    "        results.append([x, y])\n",
    "\n",
    "print(results)\n",
    "\n",
    "print([[x, y] for x in [1, 2, 3] for y in [4, 5, 6]])"
   ]
  },
  {
   "cell_type": "code",
   "execution_count": 56,
   "metadata": {},
   "outputs": [
    {
     "name": "stdout",
     "output_type": "stream",
     "text": [
      "10 1\n"
     ]
    }
   ],
   "source": [
    "# multiple assignments; need equal amount of variables to values\n",
    "x, y, z = ['Tensorflow', 'PyTorch', 'Chainer']\n",
    "\n",
    "def some_func():\n",
    "    return 10, 1\n",
    "\n",
    "ten, one = some_func()\n",
    "print(ten,one)"
   ]
  },
  {
   "cell_type": "code",
   "execution_count": 58,
   "metadata": {},
   "outputs": [],
   "source": [
    "# classes\n",
    "class Animal(object):\n",
    "    def __init__(self, species, age):\n",
    "        self.species = species\n",
    "        self.age = age\n",
    "    \n",
    "    def isPerson(self):\n",
    "        return self.species == 'Homo Sapiens'\n",
    "    \n",
    "    def ageOneYear(self):\n",
    "        self.age += 1\n",
    "\n",
    "class Dog(Animal):\n",
    "    def ageOneYear(self):\n",
    "        self.age += 7"
   ]
  },
  {
   "cell_type": "code",
   "execution_count": 59,
   "metadata": {},
   "outputs": [],
   "source": [
    "ors = Animal('dog', 14)"
   ]
  },
  {
   "cell_type": "code",
   "execution_count": 62,
   "metadata": {},
   "outputs": [
    {
     "data": {
      "text/plain": [
       "14"
      ]
     },
     "execution_count": 62,
     "metadata": {},
     "output_type": "execute_result"
    }
   ],
   "source": [
    "ors.age"
   ]
  },
  {
   "cell_type": "code",
   "execution_count": 65,
   "metadata": {},
   "outputs": [],
   "source": [
    "def is_leapyear(year):\n",
    "    leap = False\n",
    "    if year % 4 == 0:\n",
    "        leap = True\n",
    "    return leap"
   ]
  },
  {
   "cell_type": "code",
   "execution_count": 67,
   "metadata": {},
   "outputs": [
    {
     "data": {
      "text/plain": [
       "True"
      ]
     },
     "execution_count": 67,
     "metadata": {},
     "output_type": "execute_result"
    }
   ],
   "source": [
    "is_leapyear(100000)"
   ]
  },
  {
   "cell_type": "code",
   "execution_count": 18,
   "metadata": {},
   "outputs": [
    {
     "name": "stdout",
     "output_type": "stream",
     "text": [
      "{2, 3, 5, 6}\n",
      "[2, 3, 6, 6, 5]\n"
     ]
    }
   ],
   "source": [
    "# Sets\n",
    "# can convert lists to sets and sets to list\n",
    "arr = [2, 3, 6, 6, 5]\n",
    "print(set(arr))\n",
    "print(list(arr))"
   ]
  },
  {
   "cell_type": "code",
   "execution_count": 16,
   "metadata": {},
   "outputs": [
    {
     "data": {
      "text/plain": [
       "5"
      ]
     },
     "execution_count": 16,
     "metadata": {},
     "output_type": "execute_result"
    }
   ],
   "source": [
    "s"
   ]
  },
  {
   "cell_type": "code",
   "execution_count": null,
   "metadata": {},
   "outputs": [],
   "source": []
  }
 ],
 "metadata": {
  "kernelspec": {
   "display_name": "Python 3",
   "language": "python",
   "name": "python3"
  },
  "language_info": {
   "codemirror_mode": {
    "name": "ipython",
    "version": 3
   },
   "file_extension": ".py",
   "mimetype": "text/x-python",
   "name": "python",
   "nbconvert_exporter": "python",
   "pygments_lexer": "ipython3",
   "version": "3.8.5"
  }
 },
 "nbformat": 4,
 "nbformat_minor": 4
}
